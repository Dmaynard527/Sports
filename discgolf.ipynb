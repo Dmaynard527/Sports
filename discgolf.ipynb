{
 "cells": [
  {
   "cell_type": "code",
   "execution_count": null,
   "id": "7bdbf436",
   "metadata": {},
   "outputs": [],
   "source": [
    "import requests\n",
    "import time\n",
    "import pandas as pd\n",
    "from bs4 import BeautifulSoup\n",
    "from urllib.parse import urljoin"
   ]
  },
  {
   "cell_type": "markdown",
   "id": "108cb3a1",
   "metadata": {},
   "source": [
    "### Event - Round API example\n"
   ]
  },
  {
   "cell_type": "code",
   "execution_count": null,
   "id": "80dd96ed",
   "metadata": {},
   "outputs": [],
   "source": [
    "headers = {\"User-Agent\": \"Mozilla/5.0\"}\n",
    "### Event - Round API example\n",
    "EVENT = 'https://www.pdga.com/apps/tournament/live-api/live_results_fetch_round?TournID=88152&Division=MPO&Round=1'\n",
    "\n",
    "r = requests.get(EVENT, headers=headers)\n",
    "data = r.json()\n",
    "df = pd.DataFrame(data['data']['scores'])\n",
    "df.loc[df['PDGANum'] == 149756]"
   ]
  }
 ],
 "metadata": {
  "language_info": {
   "name": "python"
  }
 },
 "nbformat": 4,
 "nbformat_minor": 5
}
